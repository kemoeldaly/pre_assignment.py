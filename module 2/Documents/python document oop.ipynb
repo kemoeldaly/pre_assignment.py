{
 "cells": [
  {
   "cell_type": "markdown",
   "metadata": {},
   "source": [
    "# Object-Oriented-Programming (OOP)"
   ]
  },
  {
   "cell_type": "markdown",
   "metadata": {},
   "source": [
    "## Tasks Today:\n",
    "\n",
    "   \n",
    "\n",
    "1) <b>Creating a Class (Initializing/Declaring)</b> <br>\n",
    "2) <b>Using a Class (Instantiating)</b> <br>\n",
    " &nbsp;&nbsp;&nbsp;&nbsp; a) Creating One Instance <br>\n",
    " &nbsp;&nbsp;&nbsp;&nbsp; b) Creating Multiple Instances <br>\n",
    " &nbsp;&nbsp;&nbsp;&nbsp; c) In-Class Exercise #1 - Create a Class 'Car' and instantiate three different makes of cars <br>\n",
    "3) <b>The \\__init\\__() Method</b> <br>\n",
    " &nbsp;&nbsp;&nbsp;&nbsp; a) The 'self' Attribute <br>\n",
    "4) <b>Class Attributes</b> <br>\n",
    " &nbsp;&nbsp;&nbsp;&nbsp; a) Initializing Attributes <br>\n",
    " &nbsp;&nbsp;&nbsp;&nbsp; b) Setting an Attribute Outside of the \\__init\\__() Method <br>\n",
    " &nbsp;&nbsp;&nbsp;&nbsp; c) Setting Defaults for Attributes <br>\n",
    " &nbsp;&nbsp;&nbsp;&nbsp; d) Accessing Class Attributes <br>\n",
    " &nbsp;&nbsp;&nbsp;&nbsp; e) Changing Class Attributes <br>\n",
    " &nbsp;&nbsp;&nbsp;&nbsp; f) In-Class Exercise #2 - Add a color and wheels attribute to your 'Car' class <br>\n",
    "5) <b>Class Methods</b> <br>\n",
    " &nbsp;&nbsp;&nbsp;&nbsp; a) Creating <br>\n",
    " &nbsp;&nbsp;&nbsp;&nbsp; b) Calling <br>\n",
    " &nbsp;&nbsp;&nbsp;&nbsp; c) Modifying an Attribute's Value Through a Method <br>\n",
    " &nbsp;&nbsp;&nbsp;&nbsp; d) Incrementing an Attribute's Value Through a Method <br>\n",
    " &nbsp;&nbsp;&nbsp;&nbsp; e) In-Class Exercise #3 - Add a method that prints the cars color and wheel number, then call them <br>\n",
    "6) <b>Inheritance</b> <br>\n",
    " &nbsp;&nbsp;&nbsp;&nbsp; a) Syntax for Inheriting from a Parent Class <br>\n",
    " &nbsp;&nbsp;&nbsp;&nbsp; b) The \\__init\\__() Method for a Child Class (super()) <br>\n",
    " &nbsp;&nbsp;&nbsp;&nbsp; c) Defining Attributes and Methods for the Child Class <br>\n",
    " &nbsp;&nbsp;&nbsp;&nbsp; d) Method Overriding <br>\n",
    " &nbsp;&nbsp;&nbsp;&nbsp; e) In-Class Exercise #4 - Create a class 'Ford' that inherits from 'Car' class and initialize it as a Blue Ford Explorer with 4 wheels using the super() method <br>\n",
    "7) <b>Classes as Attributes</b> <br>\n",
    "8) <b>Exercises</b> <br>\n",
    " &nbsp;&nbsp;&nbsp;&nbsp; a) Exercise #1 - Turn the shopping cart program from yesterday into an object-oriented program <br>"
   ]
  },
  {
   "cell_type": "markdown",
   "metadata": {},
   "source": [
    "## Creating a Class (Initializing/Declaring)\n",
    "<p>When creating a class, function, or even a variable you are initializing that object. Initializing and Declaring occur at the same time in Python, whereas in lower level languages you have to declare an object before initializing it. This is the first step in the process of using a class.</p>"
   ]
  },
  {
   "cell_type": "code",
   "execution_count": 3,
   "metadata": {},
   "outputs": [
    {
     "name": "stdout",
     "output_type": "stream",
     "text": [
      "Turn them on for safety, do not crash into a moose\n"
     ]
    }
   ],
   "source": [
    "class Car():\n",
    "    wheels = 4\n",
    "    color = 'blue'\n",
    "    windshield_wipers = 'wee woo wee woo'\n",
    "    \n",
    "    def headlights(self):  # Added 'self' as the first parameter\n",
    "        print('Turn them on for safety, do not crash into a moose')\n",
    "       \n",
    "volkswagen = Car()  \n",
    "volkswagen.headlights()  \n",
    "\n",
    "\n",
    "        "
   ]
  },
  {
   "cell_type": "markdown",
   "metadata": {},
   "source": [
    "## Using a Class (Instantiating)\n",
    "<p>The process of creating a class is called <i>Instantiating</i>. Each time you create a variable of that type of class, it is referred to as an <i>Instance</i> of that class. This is the second step in the process of using a class.</p>"
   ]
  },
  {
   "cell_type": "markdown",
   "metadata": {},
   "source": [
    "##### Creating One Instance"
   ]
  },
  {
   "cell_type": "code",
   "execution_count": 5,
   "metadata": {},
   "outputs": [
    {
     "name": "stdout",
     "output_type": "stream",
     "text": [
      "wee woo wee woo\n"
     ]
    }
   ],
   "source": [
    "ford = Car()\n",
    "\n",
    "print(ford.windshield_wipers)"
   ]
  },
  {
   "cell_type": "markdown",
   "metadata": {},
   "source": [
    "##### Creating Multiple Instances"
   ]
  },
  {
   "cell_type": "code",
   "execution_count": 5,
   "metadata": {},
   "outputs": [
    {
     "name": "stdout",
     "output_type": "stream",
     "text": [
      "<class 'str'>\n",
      "blue\n"
     ]
    }
   ],
   "source": [
    "class Car():\n",
    "    wheels = 4\n",
    "    color = 'blue'\n",
    "    windshield_wipers = 'wee woo wee woo'\n",
    "    \n",
    "    def headlights(self):\n",
    "        print('Turn them on for safety, do not crash into a moose')\n",
    "       \n",
    "chevy = Car()\n",
    "honda = Car()\n",
    "porsche = Car()\n",
    "\n",
    "print(type(porsche.color))  # Returns <class 'str'>\n",
    "print(porsche.color)  \n"
   ]
  },
  {
   "cell_type": "markdown",
   "metadata": {},
   "source": [
    "##### In-Class Exercise #1 - Create a Class 'Car' and Instantiate three different makes of cars"
   ]
  },
  {
   "cell_type": "code",
   "execution_count": 6,
   "metadata": {},
   "outputs": [
    {
     "name": "stdout",
     "output_type": "stream",
     "text": [
      "8 cyl\n"
     ]
    }
   ],
   "source": [
    "class car():\n",
    "    doors = 4\n",
    "    color = 'black'\n",
    "    engine = '8 cyl'\n",
    "    top_speed = 200\n",
    "    wheels = '18inch'\n",
    " \n",
    "mustang = car()\n",
    "print(mustang.engine)\n",
    "     "
   ]
  },
  {
   "cell_type": "markdown",
   "metadata": {},
   "source": [
    "## The \\__init\\__() Method <br>\n",
    "<p>This method is used in almost every created class, and called only once upon the creation of the class instance. This method will initialize all variables needed for the object.</p>"
   ]
  },
  {
   "cell_type": "code",
   "execution_count": 4,
   "metadata": {},
   "outputs": [
    {
     "name": "stdout",
     "output_type": "stream",
     "text": [
      "black\n",
      "blue\n",
      "4\n",
      "6\n"
     ]
    }
   ],
   "source": [
    "class Car():\n",
    "    engine =  '4.7L'  #Global within class - amu method insiode the class can call upon this variable\n",
    "    \n",
    "    def __init__(self, color, wheels):\n",
    "        self.color = color\n",
    "        self.wheels = wheels\n",
    "        \n",
    "mazda = Car('black',  4)\n",
    "subaru = Car('blue', 6)\n",
    "\n",
    "print(mazda.color)\n",
    "print(subaru.color)\n",
    "print(mazda.wheels)\n",
    "print(subaru.wheels)\n"
   ]
  },
  {
   "cell_type": "markdown",
   "metadata": {},
   "source": [
    "##### The 'self' Attribute <br>\n",
    "<p>This attribute is required to keep track of specific instance's attributes. Without the self attribute, the program would not know how to reference or keep track of an instance's attributes.</p>"
   ]
  },
  {
   "cell_type": "code",
   "execution_count": 3,
   "metadata": {},
   "outputs": [
    {
     "data": {
      "text/plain": [
       "'why on earth would you not want a rock climbing wall in your house'"
      ]
     },
     "execution_count": 3,
     "metadata": {},
     "output_type": "execute_result"
    }
   ],
   "source": [
    "class House():\n",
    "    \n",
    "    def __init__(self, wall, dishes):\n",
    "        self.wall = wall\n",
    "        self.dishes = dishes\n",
    "        \n",
    "    def washDishes(self):\n",
    "        if self.dishes.lower() == 'dirty':\n",
    "            print(self.wall)\n",
    "        \n",
    "    def rockClimbingWall(self):\n",
    "        if self.wall.lower() == 'yes':\n",
    "            return 'rock on, climber!'\n",
    "        else:\n",
    "            return 'why on earth would you not want a rock climbing wall in your house'\n",
    "        \n",
    "brandon_house = House('dirty', 'no')\n",
    "\n",
    "brandon_house.washDishes()\n",
    "brandon_house.rockClimbingWall()"
   ]
  },
  {
   "cell_type": "markdown",
   "metadata": {},
   "source": [
    " Class Attributes <br>\n",
    "<p>While variables are inside of a class, they are referred to as attributes and not variables. When someone says 'attribute' you know they're speaking about a class. Attributes can be initialized through the init method, or outside of it.</p>"
   ]
  },
  {
   "cell_type": "markdown",
   "metadata": {},
   "source": [
    "##### Initializing Attributes"
   ]
  },
  {
   "cell_type": "code",
   "execution_count": 7,
   "metadata": {},
   "outputs": [],
   "source": [
    "# see above\n",
    "\n",
    "class Toy():\n",
    "    kind = 'car' #This is called a constant\n",
    "    \n",
    "    def __init__(self, rooftop, horn, wheels):\n",
    "        self.rooftop = rooftop #These are our attributes\n",
    "        self.horn = horn\n",
    "        self.wheels = wheels\n",
    "        \n",
    "tonka_truck = Toy(1, 1, 4)  #1 Rooftop, 1 horn, 4wheels\n",
    "hotwheels_car = Toy(2, 3, 8) # 2 roof, 3 horns, 8\n"
   ]
  },
  {
   "cell_type": "markdown",
   "metadata": {},
   "source": [
    "##### Accessing Class Attributes"
   ]
  },
  {
   "cell_type": "code",
   "execution_count": 8,
   "metadata": {
    "scrolled": true
   },
   "outputs": [
    {
     "data": {
      "text/plain": [
       "8"
      ]
     },
     "execution_count": 8,
     "metadata": {},
     "output_type": "execute_result"
    }
   ],
   "source": [
    "# See Above\n",
    "\n",
    "tonka_truck.rooftop\n",
    "hotwheels_car.wheels"
   ]
  },
  {
   "cell_type": "markdown",
   "metadata": {},
   "source": [
    "##### Setting Defaults for Attributes"
   ]
  },
  {
   "cell_type": "code",
   "execution_count": 11,
   "metadata": {},
   "outputs": [
    {
     "data": {
      "text/plain": [
       "'Blue'"
      ]
     },
     "execution_count": 11,
     "metadata": {},
     "output_type": "execute_result"
    }
   ],
   "source": [
    "class Car():\n",
    "    engine = '4.7L'\n",
    "    \n",
    "    def __init__(self, wheels):\n",
    "        self.wheels = wheels\n",
    "        self.color = 'Blue'\n",
    "        \n",
    "honda=Car(4)\n",
    "honda.color"
   ]
  },
  {
   "cell_type": "markdown",
   "metadata": {},
   "source": [
    "##### Changing Class Attributes <br>\n",
    "<p>Keep in mind there are global class attributes and then there are attributes only available to each class instance which won't effect other classes.</p>"
   ]
  },
  {
   "cell_type": "code",
   "execution_count": 16,
   "metadata": {},
   "outputs": [
    {
     "name": "stdout",
     "output_type": "stream",
     "text": [
      "Before change: Blue\n",
      "\n",
      "After change: White\n",
      "Blue\n"
     ]
    }
   ],
   "source": [
    "jeep = Car(8)\n",
    "\n",
    "print(f'Before change: {jeep.color}')\n",
    "\n",
    "jeep.color = 'White'\n",
    "\n",
    "print(f'\\nAfter change: {jeep.color}')\n",
    "print(honda.color)     "
   ]
  },
  {
   "cell_type": "code",
   "execution_count": null,
   "metadata": {},
   "outputs": [],
   "source": []
  },
  {
   "cell_type": "markdown",
   "metadata": {},
   "source": [
    "##### In-Class Exercise #2 - Add a doors and seats attribute to your 'Car' class then print out two different instances with different doors and seats"
   ]
  },
  {
   "cell_type": "code",
   "execution_count": 14,
   "metadata": {},
   "outputs": [
    {
     "name": "stdout",
     "output_type": "stream",
     "text": [
      "Toyota seats: 2 and toyota doors: 2\n",
      "Porsche seats: 4 and Porsche doors: 4\n"
     ]
    }
   ],
   "source": [
    "class Car():\n",
    "    \n",
    "        def __init__(self, doors, seats = 4):\n",
    "                self.doors = doors\n",
    "                self.seats = seats\n",
    "                \n",
    "toyota = Car(2,2)\n",
    "porsche = Car(4)\n",
    "\n",
    "print(f\"Toyota seats: {toyota.seats} and toyota doors: {toyota.doors}\" )\n",
    "print(f\"Porsche seats: {porsche.seats} and Porsche doors: {porsche.doors}\" )\n",
    "    \n",
    "       "
   ]
  },
  {
   "cell_type": "markdown",
   "metadata": {},
   "source": [
    "## Class Methods <br>\n",
    "<p>While inside of a class, functions are referred to as 'methods'. If you hear someone mention methods, they're speaking about classes. Methods are essentially functions, but only callable on the instances of a class.</p>"
   ]
  },
  {
   "cell_type": "markdown",
   "metadata": {},
   "source": [
    "##### Creating"
   ]
  },
  {
   "cell_type": "code",
   "execution_count": 15,
   "metadata": {},
   "outputs": [],
   "source": [
    "class ShoppingBag():\n",
    "    \"\"\"\n",
    "    The ShoppingBag class will have handles, capacity,\n",
    "    and items to place inside.\n",
    "    \n",
    "    Attributes for the class:\n",
    "    - handles: expected to be an ineger\n",
    "    - capacity: expected to be a string OR an ineger\n",
    "    - items: expected to be a list\n",
    "    \"\"\"\n",
    "    \n",
    "    def __init__(self, handles, capacity, items):\n",
    "        self.handles = handles\n",
    "        self.capacity = capacity\n",
    "        self.items = items\n",
    "        \n",
    "#         Write a method that shows the items in our ShopingBag /  thios is our items list\n",
    "    def showShoppingBag(self):\n",
    "        print(\"You have items in your bag!\")\n",
    "        for item in self.items:\n",
    "               print(item)\n",
    "                \n",
    "#  show the capacity of ShoppingBag - how much room is left\n",
    "    def showCapacity(self):\n",
    "            print(f'Your capacity is: {self.capacity}' )\n",
    "            \n",
    "#  Add item(s) to the items list for the ShoppingBag\n",
    "    def addToShoppingBag(self):\n",
    "        products = input(' What would yopu like to add? ')\n",
    "        self.items.append(products)\n",
    "        \n",
    "#  change the capacity of the ShoppingBag\n",
    "    def changeBagCapacity(self, capacity):\n",
    "        self.capacity = capacity\n",
    "        \n",
    "# Increase nthe capacity of the ShoppingBag by a default amount that we set to 10\n",
    "    def increaseCapacity(self, changed_capacity = 10):\n",
    "            if self.capacity == isinstance(self.capacity, str):\n",
    "                   print(\"We can't add that here\")\n",
    "            else:\n",
    "                self.capacity += changed_capacity\n",
    "                \n"
   ]
  },
  {
   "cell_type": "markdown",
   "metadata": {},
   "source": [
    "##### Calling"
   ]
  },
  {
   "cell_type": "code",
   "execution_count": 16,
   "metadata": {},
   "outputs": [
    {
     "name": "stdout",
     "output_type": "stream",
     "text": [
      "What do you want to do? add/show/quit show\n",
      "You have items in your bag!\n",
      "What do you want to do? add/show/quit add\n",
      " What would yopu like to add? grapes\n",
      "What do you want to do? add/show/quit add \n",
      "Try another command\n",
      "What do you want to do? add/show/quit waffles\n",
      "Try another command\n",
      "What do you want to do? add/show/quit books\n",
      "Try another command\n",
      "What do you want to do? add/show/quit show\n",
      "You have items in your bag!\n",
      "grapes\n",
      "What do you want to do? add/show/quit quit\n",
      "You have items in your bag!\n",
      "grapes\n",
      "Thanks for shopping\n"
     ]
    }
   ],
   "source": [
    "# See Above\n",
    "#  so far, we created the idea of the shopping bag; no we will actually instantiate and MAKE one, and use it!\n",
    "wholeFoods_bag = ShoppingBag(2, 10, [])\n",
    "\n",
    "# create a function to run the ShoppingBag methods on our WholeFoods_bag instance\n",
    "def run():\n",
    "    while True:\n",
    "        response = input('What do you want to do? add/show/quit ')\n",
    "        \n",
    "        if response.lower() == 'quit':\n",
    "            wholeFoods_bag.showShoppingBag()\n",
    "            print('Thanks for shopping')\n",
    "            break\n",
    "        elif response.lower( )== 'add':\n",
    "             wholeFoods_bag.addToShoppingBag()\n",
    "        elif response.lower() == 'show':\n",
    "             wholeFoods_bag.showShoppingBag()\n",
    "        else:\n",
    "            print('Try another command')\n",
    "        \n",
    "            \n",
    "run()            \n",
    "            \n",
    "        \n",
    "            \n",
    "           \n",
    "                "
   ]
  },
  {
   "cell_type": "markdown",
   "metadata": {},
   "source": [
    "##### Modifying an Attribute's Value Through a Method"
   ]
  },
  {
   "cell_type": "code",
   "execution_count": 9,
   "metadata": {},
   "outputs": [
    {
     "name": "stdout",
     "output_type": "stream",
     "text": [
      "Your capacity is: 10\n",
      "Capacity AFTER the change...\n",
      "Your capacity is: 40\n"
     ]
    }
   ],
   "source": [
    "#  Show the capacity\n",
    "wholeFoods_bag.showCapacity()\n",
    "print('Capacity AFTER the change...')\n",
    "wholeFoods_bag.changeBagCapacity(40)\n",
    "wholeFoods_bag.showCapacity()"
   ]
  },
  {
   "cell_type": "markdown",
   "metadata": {},
   "source": [
    "##### Incrementing an Attribute's Value Through a Method"
   ]
  },
  {
   "cell_type": "code",
   "execution_count": 10,
   "metadata": {},
   "outputs": [
    {
     "name": "stdout",
     "output_type": "stream",
     "text": [
      "Your capacity is: 40\n",
      "After increase:\n",
      "Your capacity is: 50\n"
     ]
    }
   ],
   "source": [
    "wholeFoods_bag.showCapacity()\n",
    "print('After increase:')\n",
    "wholeFoods_bag.increaseCapacity()\n",
    "wholeFoods_bag.showCapacity()\n"
   ]
  },
  {
   "cell_type": "markdown",
   "metadata": {},
   "source": [
    "zIn-Class Exercise #3 - Add a method that takes in three parameters of year, doors and seats and prints out a formatted print statement with make, model, year, seats, and doors"
   ]
  },
  {
   "cell_type": "code",
   "execution_count": 11,
   "metadata": {},
   "outputs": [
    {
     "name": "stdout",
     "output_type": "stream",
     "text": [
      "This car is from 2019 and is a fordExplorer and has 4 doors and 5 seats\n"
     ]
    }
   ],
   "source": [
    "# Create class with 2 paramters inside of the __init__ which are make and model\n",
    "\n",
    "# Inside of the Car class create a method that has 4 parameter in total (self,year,door,seats)\n",
    "\n",
    "# Output: This car is from 2019 and is a Ford Expolorer and has 4 doors and 5 seats\n",
    "class Car:\n",
    "    def __init__(self, make, model):\n",
    "        self.make = make\n",
    "        self.model = model\n",
    "        \n",
    "    def car_info(self, year, doors, seats):\n",
    "        print(f\"This car is from {year} and is a {self.make}{self.model} and has {doors} doors and {seats} seats\")\n",
    "            \n",
    "my_car = Car(\"ford\", \"Explorer\")\n",
    "my_car.car_info(2019, 4, 5)\n",
    "        \n",
    "        \n",
    "        \n",
    "\n"
   ]
  },
  {
   "cell_type": "markdown",
   "metadata": {},
   "source": [
    "## Inheritance <br>\n",
    "<p>You can create a child-parent relationship between two classes by using inheritance. What this allows you to do is have overriding methods, but also inherit traits from the parent class. Think of it as an actual parent and child, the child will inherit the parent's genes, as will the classes in OOP</p>"
   ]
  },
  {
   "cell_type": "markdown",
   "metadata": {},
   "source": [
    "##### Syntax for Inheriting from a Parent Class"
   ]
  },
  {
   "cell_type": "code",
   "execution_count": 37,
   "metadata": {},
   "outputs": [
    {
     "name": "stdout",
     "output_type": "stream",
     "text": [
      "Bark\n",
      "Make some generic sound\n",
      "None\n",
      "9.8\n",
      "15\n"
     ]
    }
   ],
   "source": [
    "class Animal():\n",
    "    acceleration = 9.8\n",
    "    \n",
    "    def __init__(self, name, species, legs=4):\n",
    "        self.name = name\n",
    "        self.species = species\n",
    "        self.legs = legs\n",
    "\n",
    "#         Generic parent Method - This is not overriding anything\n",
    "    def makeSound(self):\n",
    "        print('Make some generic sound')\n",
    "            \n",
    "#  Now we are making our child class... Dog\n",
    "class Dog(Animal):\n",
    "    speed = 15\n",
    "        \n",
    "    def printInfo(self):\n",
    "        print(f\"The Dog has {self.speed} mph in speed and {self.acceleration} m/s^2 acceleration\")\n",
    "                \n",
    "#  Creation of our Grand-Child Class -- Mut    \n",
    "class Mutt(Dog):\n",
    "    color = \"Tan\"\n",
    "        \n",
    "#         Override the ANIMAL class - using the Dog class to override the __init__ from Animal\n",
    "    def __init__(self, name, species, eye_color, legs=4):\n",
    "        Dog.__init__(self, name, species, legs)\n",
    "        self.eye_color = eye_color\n",
    "        \n",
    "#  Override the makeSound method (which is coming from... ANIMAL)\n",
    "    def makeSound(self):\n",
    "        noise = 'Bark'\n",
    "        return noise\n",
    "        \n",
    "lassie = Dog('Lassie', 'Dog')\n",
    "basic_animal = Animal('Generic Animal Name', 'Generic Animal Species')\n",
    "buster = Mutt('Buster', 'Mut', 'Brown')\n",
    "\n",
    "print(buster.makeSound())\n",
    "print(lassie.makeSound())\n",
    "print(basic_animal.acceleration) \n",
    "print(buster.speed)"
   ]
  },
  {
   "cell_type": "markdown",
   "metadata": {},
   "source": [
    "##### The \\__init\\__() Method for a Child Class - super()"
   ]
  },
  {
   "cell_type": "code",
   "execution_count": 39,
   "metadata": {
    "scrolled": true
   },
   "outputs": [
    {
     "name": "stdout",
     "output_type": "stream",
     "text": [
      "Bark\n",
      "Make some generic sound\n",
      "None\n",
      "9.8\n",
      "15\n"
     ]
    }
   ],
   "source": [
    "class Puppy(Dog):\n",
    "    color = 'black and brown'\n",
    "#     Override the Animal class __init (via Dog class)\n",
    "    def __init__(self, name, species, eye_color, legs = 4):\n",
    "        super().__init__(name, species, legs)\n",
    "        self.eye_color = eye_color\n",
    "#         Override the makeSound method\n",
    "    def makeSound(self):\n",
    "        noise = 'Bark'\n",
    "        return noise\n",
    "    \n",
    "lassie = Dog('Lassie', 'Dog')\n",
    "basic_animal = Animal('Generic Animal Name', 'Generic Animal Species')\n",
    "buster = Mutt('Buster', 'Mut', 'Brown')\n",
    "\n",
    "print(buster.makeSound())\n",
    "print(lassie.makeSound())\n",
    "print(basic_animal.acceleration) \n",
    "print(buster.speed)    "
   ]
  },
  {
   "cell_type": "markdown",
   "metadata": {},
   "source": [
    "##### Defining Attributes and Methods for the Child Class"
   ]
  },
  {
   "cell_type": "code",
   "execution_count": null,
   "metadata": {},
   "outputs": [],
   "source": [
    "# See Above"
   ]
  },
  {
   "cell_type": "markdown",
   "metadata": {},
   "source": [
    "##### Method Overriding"
   ]
  },
  {
   "cell_type": "code",
   "execution_count": null,
   "metadata": {},
   "outputs": [],
   "source": [
    "# See Above"
   ]
  },
  {
   "cell_type": "markdown",
   "metadata": {},
   "source": [
    "## Classes as Attributes <br>\n",
    "<p>Classes can also be used as attributes within another class. This is useful in situations where you need to keep variables locally stored, instead of globally stored.</p>"
   ]
  },
  {
   "cell_type": "code",
   "execution_count": 2,
   "metadata": {},
   "outputs": [
    {
     "name": "stdout",
     "output_type": "stream",
     "text": [
      "20\n"
     ]
    },
    {
     "data": {
      "text/plain": [
       "'2019 Tesla Model X 20'"
      ]
     },
     "execution_count": 2,
     "metadata": {},
     "output_type": "execute_result"
    }
   ],
   "source": [
    "class Battery():\n",
    "    volts = 7.8\n",
    "    \n",
    "    def __init__(self, cells):\n",
    "        self.cells = cells\n",
    "        \n",
    "class Car():\n",
    "    def __init__(self, year, make, model, battery):\n",
    "        self.year = year\n",
    "        self.make = make\n",
    "        self.model = model\n",
    "        self.battery = battery\n",
    "        \n",
    "    def printInfo(self):\n",
    "        return f'{self.year} {self.make} {self.model} {self.battery.cells}'\n",
    "            \n",
    "my_battery = Battery(20)\n",
    "\n",
    "tesla = Car(2019, 'Tesla', 'Model X', my_battery)\n",
    "\n",
    "print(tesla.battery.cells)\n",
    "tesla.printInfo()"
   ]
  },
  {
   "cell_type": "markdown",
   "metadata": {},
   "source": [
    "# Exercises"
   ]
  },
  {
   "cell_type": "markdown",
   "metadata": {},
   "source": [
    "### Exercise 1 - Turn the shopping cart program from yesterday into an object-oriented program\n",
    "\n",
    "The comments in the cell below are there as a guide for thinking about the problem. However, if you feel a different way is best for you and your own thought process, please do what feels best for you by all means."
   ]
  },
  {
   "cell_type": "code",
   "execution_count": 27,
   "metadata": {},
   "outputs": [
    {
     "name": "stdout",
     "output_type": "stream",
     "text": [
      "What do you want to do? (add/show/quit) add\n",
      "What would you like to add? watermelon\n",
      "What do you want to do? (add/show/quit) show\n",
      "You have items in your shopping bag:\n",
      "watermelon\n",
      "What do you want to do? (add/show/quit) quit\n",
      "You have items in your shopping bag:\n",
      "watermelon\n",
      "Thanks for shopping!\n"
     ]
    }
   ],
   "source": [
    "# Create a class called cart that retains items and has methods to add, remove, and show\n",
    "class ShoppingBag:\n",
    "    def __init__(self, handles, capacity, items):\n",
    "        self.handles = handles\n",
    "        self.capacity = capacity\n",
    "        self.items = items\n",
    "        \n",
    "    def show_shopping_bag_items(self):\n",
    "        print(\"You have items in your shopping bag:\")\n",
    "        for item in self.items:\n",
    "            print(item)\n",
    "               \n",
    "    def show_shopping_bag_capacity(self):\n",
    "        print(f\"Your shopping bag capacity is: {self.capacity}\")\n",
    "            \n",
    "    def add_to_shopping_bag(self):\n",
    "        product = input(\"What would you like to add? \")\n",
    "        self.items.append(product)  \n",
    "        \n",
    "    def change_shopping_bag_capacity(self, capacity):\n",
    "        self.capacity = capacity\n",
    "        \n",
    "    def increase_shopping_bag_capacity(self, changed_capacity=10):\n",
    "        if isinstance(self.capacity, str):\n",
    "            print(\"We can't add capacity here.\")\n",
    "        else:\n",
    "            self.capacity += changed_capacity\n",
    "\n",
    "\n",
    "my_shopping_bag = ShoppingBag(2, 10, [])  \n",
    "\n",
    "while True:\n",
    "    response = input(\"What do you want to do? (add/show/quit) \")\n",
    "\n",
    "    if response.lower() == \"quit\":\n",
    "        my_shopping_bag.show_shopping_bag_items()\n",
    "        print(\"Thanks for shopping!\")\n",
    "        break\n",
    "    elif response.lower() == \"add\":\n",
    "        my_shopping_bag.add_to_shopping_bag()\n",
    "    elif response.lower() == \"show\":\n",
    "        my_shopping_bag.show_shopping_bag_items()\n",
    "    else:\n",
    "        print(\"Try another command.\")\n"
   ]
  },
  {
   "cell_type": "markdown",
   "metadata": {},
   "source": [
    "### Exercise 2 - Write a Python class which has two methods get_String and print_String. get_String accept a string from the user and print_String print the string in upper case"
   ]
  },
  {
   "cell_type": "code",
   "execution_count": 11,
   "metadata": {
    "scrolled": true
   },
   "outputs": [
    {
     "name": "stdout",
     "output_type": "stream",
     "text": [
      "Enter a string: Hello World\n",
      "the string in upper is: \n"
     ]
    }
   ],
   "source": [
    "class MyString:\n",
    "    def __init__(self):\n",
    "        self.string = \"\"\n",
    "        \n",
    "    def get_string(self):\n",
    "        self.my_string = input(\"Enter a string: \")\n",
    "        \n",
    "    def print_string(self):\n",
    "        print(\"the string in upper is:\", self.string.upper())\n",
    "        \n",
    "my_string_obj = MyString()\n",
    "my_string_obj.get_string()\n",
    "my_string_obj.print_string()"
   ]
  }
 ],
 "metadata": {
  "kernelspec": {
   "display_name": "Python 3 (ipykernel)",
   "language": "python",
   "name": "python3"
  },
  "language_info": {
   "codemirror_mode": {
    "name": "ipython",
    "version": 3
   },
   "file_extension": ".py",
   "mimetype": "text/x-python",
   "name": "python",
   "nbconvert_exporter": "python",
   "pygments_lexer": "ipython3",
   "version": "3.9.13"
  }
 },
 "nbformat": 4,
 "nbformat_minor": 2
}
